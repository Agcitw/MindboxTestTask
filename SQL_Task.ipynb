{
    "metadata": {
        "kernelspec": {
            "name": "SQL",
            "display_name": "SQL",
            "language": "sql"
        },
        "language_info": {
            "name": "sql",
            "version": ""
        }
    },
    "nbformat_minor": 2,
    "nbformat": 4,
    "cells": [
        {
            "cell_type": "code",
            "source": [
                "DROP TABLE dbo.ProductCategory\r\n",
                "DROP TABLE dbo.Product\r\n",
                "DROP TABLE dbo.Category"
            ],
            "metadata": {
                "azdata_cell_guid": "476dc5bd-e7a4-440b-b52c-a718b794c47b",
                "language": "sql"
            },
            "outputs": [
                {
                    "output_type": "display_data",
                    "data": {
                        "text/html": "Commands completed successfully."
                    },
                    "metadata": {}
                },
                {
                    "output_type": "display_data",
                    "data": {
                        "text/html": "Total execution time: 00:00:00.002"
                    },
                    "metadata": {}
                }
            ],
            "execution_count": 45
        },
        {
            "cell_type": "code",
            "source": [
                "CREATE TABLE Product\n",
                "(\n",
                "    Id INT IDENTITY PRIMARY KEY,\n",
                "    Name NVARCHAR(25)\n",
                ");\n",
                "\n",
                "CREATE TABLE Category\n",
                "(\n",
                "    Id INT IDENTITY PRIMARY KEY,\n",
                "    Name NVARCHAR(25)\n",
                ");\n",
                "\n",
                "CREATE TABLE ProductCategory\n",
                "(\n",
                "    ProductId INT FOREIGN KEY (ProductId) REFERENCES Product(Id),\n",
                "    CategoryId INT FOREIGN KEY (CategoryId) REFERENCES Category(Id),\n",
                "    PRIMARY KEY (ProductId, CategoryId)\n",
                ");"
            ],
            "metadata": {
                "azdata_cell_guid": "7457a894-8c31-4155-a06d-1e76f0f6bc51",
                "language": "sql"
            },
            "outputs": [
                {
                    "output_type": "display_data",
                    "data": {
                        "text/html": "Commands completed successfully."
                    },
                    "metadata": {}
                },
                {
                    "output_type": "display_data",
                    "data": {
                        "text/html": "Total execution time: 00:00:00.002"
                    },
                    "metadata": {}
                }
            ],
            "execution_count": 46
        },
        {
            "cell_type": "code",
            "source": [
                "INSERT INTO Product\r\n",
                "VALUES \r\n",
                "('Xiaomi Redmi Note 8 Pro'),\r\n",
                "('Apple IMac'),\r\n",
                "('Microphone'),\r\n",
                "('Audio cable 3.5'),\r\n",
                "('Pear')\r\n",
                "\r\n",
                "INSERT INTO Category\r\n",
                "VALUES\r\n",
                "('Electronic'),\r\n",
                "('Computer'),\r\n",
                "('Smartphone'),\r\n",
                "('Acsessories')\r\n",
                "\r\n",
                "INSERT INTO ProductCategory\r\n",
                "VALUES \r\n",
                "(1, 1),\r\n",
                "(1, 3),\r\n",
                "(2, 1),\r\n",
                "(2, 2),\r\n",
                "(3, 1),\r\n",
                "(3, 4),\r\n",
                "(4, 1),\r\n",
                "(4, 4)"
            ],
            "metadata": {
                "language": "sql",
                "azdata_cell_guid": "8f22c150-c814-46d3-bc1d-7dd935b8c8e6",
                "tags": []
            },
            "outputs": [
                {
                    "output_type": "display_data",
                    "data": {
                        "text/html": "(5 rows affected)"
                    },
                    "metadata": {}
                },
                {
                    "output_type": "display_data",
                    "data": {
                        "text/html": "(4 rows affected)"
                    },
                    "metadata": {}
                },
                {
                    "output_type": "display_data",
                    "data": {
                        "text/html": "(8 rows affected)"
                    },
                    "metadata": {}
                },
                {
                    "output_type": "display_data",
                    "data": {
                        "text/html": "Total execution time: 00:00:00.003"
                    },
                    "metadata": {}
                }
            ],
            "execution_count": 47
        },
        {
            "cell_type": "code",
            "source": [
                "SELECT Product.Name AS Product_Name, Category.Name AS Category_Name \r\n",
                "FROM Product \r\n",
                "    LEFT JOIN ProductCategory \r\n",
                "    ON Product.Id = ProductCategory.ProductId\r\n",
                "        LEFT JOIN Category \r\n",
                "        ON ProductCategory.CategoryId = Category.Id;"
            ],
            "metadata": {
                "language": "sql",
                "azdata_cell_guid": "2cba4399-99cb-4f30-b0ce-86f3df7852ef"
            },
            "outputs": [
                {
                    "output_type": "display_data",
                    "data": {
                        "text/html": "(9 rows affected)"
                    },
                    "metadata": {}
                },
                {
                    "output_type": "display_data",
                    "data": {
                        "text/html": "Total execution time: 00:00:00.005"
                    },
                    "metadata": {}
                },
                {
                    "output_type": "execute_result",
                    "metadata": {},
                    "execution_count": 48,
                    "data": {
                        "application/vnd.dataresource+json": {
                            "schema": {
                                "fields": [
                                    {
                                        "name": "Product_Name"
                                    },
                                    {
                                        "name": "Category_Name"
                                    }
                                ]
                            },
                            "data": [
                                {
                                    "0": "Xiaomi Redmi Note 8 Pro",
                                    "1": "Electronic"
                                },
                                {
                                    "0": "Xiaomi Redmi Note 8 Pro",
                                    "1": "Smartphone"
                                },
                                {
                                    "0": "Apple IMac",
                                    "1": "Electronic"
                                },
                                {
                                    "0": "Apple IMac",
                                    "1": "Computer"
                                },
                                {
                                    "0": "Microphone",
                                    "1": "Electronic"
                                },
                                {
                                    "0": "Microphone",
                                    "1": "Acsessories"
                                },
                                {
                                    "0": "Audio cable 3.5",
                                    "1": "Electronic"
                                },
                                {
                                    "0": "Audio cable 3.5",
                                    "1": "Acsessories"
                                },
                                {
                                    "0": "Pear",
                                    "1": "NULL"
                                }
                            ]
                        },
                        "text/html": [
                            "<table>",
                            "<tr><th>Product_Name</th><th>Category_Name</th></tr>",
                            "<tr><td>Xiaomi Redmi Note 8 Pro</td><td>Electronic</td></tr>",
                            "<tr><td>Xiaomi Redmi Note 8 Pro</td><td>Smartphone</td></tr>",
                            "<tr><td>Apple IMac</td><td>Electronic</td></tr>",
                            "<tr><td>Apple IMac</td><td>Computer</td></tr>",
                            "<tr><td>Microphone</td><td>Electronic</td></tr>",
                            "<tr><td>Microphone</td><td>Acsessories</td></tr>",
                            "<tr><td>Audio cable 3.5</td><td>Electronic</td></tr>",
                            "<tr><td>Audio cable 3.5</td><td>Acsessories</td></tr>",
                            "<tr><td>Pear</td><td>NULL</td></tr>",
                            "</table>"
                        ]
                    }
                }
            ],
            "execution_count": 48
        }
    ]
}